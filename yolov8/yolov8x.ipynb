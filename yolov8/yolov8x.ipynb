{
 "cells": [
  {
   "cell_type": "code",
   "execution_count": null,
   "id": "2bb343d5-29ab-4009-9c30-2db829a9cc1a",
   "metadata": {},
   "outputs": [],
   "source": [
    "!nvidia-smi"
   ]
  },
  {
   "cell_type": "code",
   "execution_count": null,
   "id": "b114df69-46f0-4f9f-963c-c5e63800d6e8",
   "metadata": {},
   "outputs": [],
   "source": [
    "!pip install ultralytics==8.2.32"
   ]
  },
  {
   "cell_type": "code",
   "execution_count": null,
   "id": "67770b11-0f2e-4c8a-bef9-9a951490e6ae",
   "metadata": {},
   "outputs": [],
   "source": [
    "import os\n",
    "HOME = os.getcwd()\n",
    "print(HOME)"
   ]
  },
  {
   "cell_type": "code",
   "execution_count": null,
   "id": "71ab64ad-75bf-46dd-ae60-2c047a71e14c",
   "metadata": {},
   "outputs": [],
   "source": [
    "!pip install roboflow\n",
    "\n",
    "from roboflow import Roboflow\n",
    "rf = Roboflow(api_key=\"tV2NdldKtjE2DvIrG2y5\")\n",
    "project = rf.workspace(\"aakash-thapa-5qpod\").project(\"palm-tree-yalqu\")\n",
    "version = project.version(4)\n",
    "dataset = version.download(\"yolov8\")"
   ]
  },
  {
   "cell_type": "code",
   "execution_count": null,
   "id": "6992356d-7ec0-4dff-9896-ab5c4a797724",
   "metadata": {
    "scrolled": true
   },
   "outputs": [],
   "source": [
    "import time\n",
    "import ultralytics\n",
    "%cd {HOME}\n",
    "# Measure the start time\n",
    "\n",
    "!yolo detect train data={HOME}/data.yaml model={HOME}/weights/yolov8x.pt epochs=50 batch=8 imgsz=640 device=0 seed=3\n"
   ]
  },
  {
   "cell_type": "code",
   "execution_count": null,
   "id": "f218209e-411f-4201-8ab3-2bc4badc03aa",
   "metadata": {
    "scrolled": true
   },
   "outputs": [],
   "source": [
    "%cd {HOME}\n",
    "\n",
    "!yolo task=detect mode=val model={HOME}/runs/detect/train_x/weights/best.pt data={HOME}/data.yaml"
   ]
  },
  {
   "cell_type": "code",
   "execution_count": null,
   "id": "8c53ea68-148a-4a79-869b-312d6058c397",
   "metadata": {},
   "outputs": [],
   "source": [
    "!yolo task=detect mode=val model={HOME}/runs/detect/train_large_final/weights/best.pt data={HOME}/data.yaml imgsz=640 split=test"
   ]
  },
  {
   "cell_type": "code",
   "execution_count": null,
   "id": "4dd0afdf-dcce-4cd2-b9e6-762c1ec6aa3e",
   "metadata": {},
   "outputs": [],
   "source": [
    "%cd {HOME}\n",
    "!yolo task=detect mode=predict model={HOME}/runs/detect/train_large_fianl/weights/last.pt source={HOME}/palm-tree-5/test/images save=True conf=0.2"
   ]
  },
  {
   "cell_type": "code",
   "execution_count": null,
   "id": "fbc19070-a974-4c78-8ad1-8a9c57520943",
   "metadata": {},
   "outputs": [],
   "source": []
  },
  {
   "cell_type": "code",
   "execution_count": null,
   "id": "fc7acc2c-66b5-4363-aace-4c79d8ac71f1",
   "metadata": {},
   "outputs": [],
   "source": []
  },
  {
   "cell_type": "code",
   "execution_count": null,
   "id": "3fa05b18-236f-477d-bf83-17bae677bfbf",
   "metadata": {},
   "outputs": [],
   "source": [
    "pip install -e ."
   ]
  }
 ],
 "metadata": {
  "kernelspec": {
   "display_name": "Python 3 (ipykernel)",
   "language": "python",
   "name": "python3"
  },
  "language_info": {
   "codemirror_mode": {
    "name": "ipython",
    "version": 3
   },
   "file_extension": ".py",
   "mimetype": "text/x-python",
   "name": "python",
   "nbconvert_exporter": "python",
   "pygments_lexer": "ipython3",
   "version": "3.9.19"
  }
 },
 "nbformat": 4,
 "nbformat_minor": 5
}
