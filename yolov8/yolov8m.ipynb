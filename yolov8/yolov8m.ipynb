{
 "cells": [
  {
   "cell_type": "code",
   "execution_count": null,
   "id": "cb43111b-8182-4c73-aecf-e6e57c01add6",
   "metadata": {
    "scrolled": true
   },
   "outputs": [],
   "source": [
    "!nvidia-smi"
   ]
  },
  {
   "cell_type": "code",
   "execution_count": null,
   "id": "920b6cf4-8163-4af0-b71e-cf43334ffbb5",
   "metadata": {},
   "outputs": [],
   "source": [
    "import os\n",
    "HOME = os.getcwd()\n",
    "print(HOME)"
   ]
  },
  {
   "cell_type": "code",
   "execution_count": null,
   "id": "877e7c31-3401-4f20-8db5-295a181986e3",
   "metadata": {
    "scrolled": true
   },
   "outputs": [],
   "source": [
    "!pip install roboflow\n",
    "\n",
    "from roboflow import Roboflow\n",
    "rf = Roboflow(api_key=\"tV2NdldKtjE2DvIrG2y5\")\n",
    "project = rf.workspace(\"aakash-thapa-5qpod\").project(\"palm-tree-yalqu\")\n",
    "version = project.version(6)\n",
    "dataset = version.download(\"yolov8\")"
   ]
  },
  {
   "cell_type": "code",
   "execution_count": null,
   "id": "74895438-c577-4670-a9ee-7a6d10af26ac",
   "metadata": {
    "scrolled": true
   },
   "outputs": [],
   "source": [
    "import time\n",
    "import ultralytics\n",
    "%cd {HOME}\n",
    "\n",
    "\n",
    "!yolo detect train data={HOME}/data.yaml model={HOME}/weights/yolov8m.pt epochs=50 batch=8 imgsz=640 device=0 "
   ]
  },
  {
   "cell_type": "code",
   "execution_count": null,
   "id": "961ba311-8d13-4f33-989f-854484b606f6",
   "metadata": {
    "scrolled": true
   },
   "outputs": [],
   "source": [
    "%cd {HOME}\n",
    " \n",
    "!yolo task=detect mode=val model={HOME}/runs/detect/train/weights/best.pt data={HOME}/data.yaml "
   ]
  },
  {
   "cell_type": "code",
   "execution_count": null,
   "id": "c8a0343c-7b14-4502-922c-f5a611a07445",
   "metadata": {},
   "outputs": [],
   "source": [
    "!pip install --upgrade ultralytics"
   ]
  },
  {
   "cell_type": "code",
   "execution_count": null,
   "id": "6bf02d09-0dc6-4409-8dfc-44b5c0344576",
   "metadata": {},
   "outputs": [],
   "source": [
    "%cd {HOME}\n",
    "!yolo task=detect mode=predict model={HOME}/runs/detect/train_m/weights/best.pt source={HOME}/palm-tree-4/test/images save=True\n",
    "%!yolo task=detect mode=predict model={HOME}/runs/detect/train_m/weights/best.pt source={HOME}/palm-tree-4/test/images save=True conf=0.2"
   ]
  },
  {
   "cell_type": "code",
   "execution_count": null,
   "id": "a0ee35cb-37ad-4085-97d4-0ace17f643a9",
   "metadata": {
    "scrolled": true
   },
   "outputs": [],
   "source": [
    "!yolo task=detect mode=val model={HOME}/runs/detect/train_mid_final/weights/best.pt data={HOME}/data.yaml imgsz=640 split=test"
   ]
  },
  {
   "cell_type": "code",
   "execution_count": null,
   "id": "988dc786-6b2d-48a5-a5fe-50d0c4b7ba83",
   "metadata": {},
   "outputs": [],
   "source": [
    "!pip install e ."
   ]
  }
 ],
 "metadata": {
  "kernelspec": {
   "display_name": "Python 3 (ipykernel)",
   "language": "python",
   "name": "python3"
  },
  "language_info": {
   "codemirror_mode": {
    "name": "ipython",
    "version": 3
   },
   "file_extension": ".py",
   "mimetype": "text/x-python",
   "name": "python",
   "nbconvert_exporter": "python",
   "pygments_lexer": "ipython3",
   "version": "3.9.19"
  }
 },
 "nbformat": 4,
 "nbformat_minor": 5
}
